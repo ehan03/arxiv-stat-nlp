{
 "cells": [
  {
   "cell_type": "code",
   "execution_count": 2,
   "id": "72108a04-5914-4fc8-929f-06ff400f6374",
   "metadata": {},
   "outputs": [],
   "source": [
    "import os\n",
    "import random\n",
    "\n",
    "import numpy as np\n",
    "import pandas as pd\n",
    "import torch\n",
    "from pytorch_lightning import Trainer, LightningModule\n",
    "from sklearn.metrics import classification_report, f1_score\n",
    "from torch.utils.data import DataLoader, Dataset\n",
    "from tqdm import tqdm\n",
    "from transformers import (\n",
    "    AdamW, \n",
    "    AutoTokenizer, \n",
    "    RobertaForSequenceClassification, \n",
    "    get_linear_schedule_with_warmup\n",
    ")\n",
    "\n",
    "torch.manual_seed(0)\n",
    "random.seed(0)\n",
    "np.random.seed(0)"
   ]
  },
  {
   "cell_type": "markdown",
   "id": "02a6d7c1-1879-4438-a7b4-3c2ebaac0bc6",
   "metadata": {},
   "source": [
    "### Setup"
   ]
  },
  {
   "cell_type": "code",
   "execution_count": 3,
   "id": "5943a0e5-7b67-4c98-a22c-43f1a3e268d8",
   "metadata": {},
   "outputs": [],
   "source": [
    "WORKING_DIR = os.path.dirname(\"__file__\")\n",
    "DATA_DIR = os.path.join(WORKING_DIR, \"..\", \"data\")\n",
    "MODEL_NAME = \"roberta-base\"\n",
    "CATEGORY_TO_ID = {\n",
    "    \"stat.AP\": 0,\n",
    "    \"stat.CO\": 1,\n",
    "    \"stat.ME\": 2,\n",
    "    \"stat.ML\": 3,\n",
    "    \"stat.TH\": 4\n",
    "}\n",
    "ID_TO_CATEGORY = {\n",
    "    v: k for k, v in CATEGORY_TO_ID.items()\n",
    "}\n",
    "N_CLASSES = len(CATEGORY_TO_ID)\n",
    "\n",
    "train_df = pd.read_csv(os.path.join(DATA_DIR, \"train.csv\"))\n",
    "test_df = pd.read_csv(os.path.join(DATA_DIR, \"test.csv\"))\n",
    "tokenizer = AutoTokenizer.from_pretrained(MODEL_NAME)"
   ]
  },
  {
   "cell_type": "code",
   "execution_count": 4,
   "id": "13d5f861-bf92-46fe-b1b3-f36a2038069e",
   "metadata": {},
   "outputs": [],
   "source": [
    "# Set up data stuff\n",
    "\n",
    "class ArXivDataset(Dataset):\n",
    "    def __init__(self, data, tokenizer, max_length=256):\n",
    "        self.titles = data[\"Title\"]\n",
    "        self.abstracts = data[\"Abstract\"]\n",
    "        self.labels = data[\"Primary Category\"].map(CATEGORY_TO_ID)\n",
    "        self.tokenizer = tokenizer\n",
    "        self.max_length = max_length\n",
    "    \n",
    "    def __len__(self):\n",
    "        return len(self.titles)\n",
    "    \n",
    "    def encode_text(self, idx):\n",
    "        text = self.titles.iloc[idx] + self.tokenizer.sep_token + self.abstracts.iloc[idx]\n",
    "\n",
    "        return self.tokenizer.encode_plus(\n",
    "            text,\n",
    "            max_length=self.max_length,\n",
    "            padding=\"max_length\",\n",
    "            truncation=True,\n",
    "            return_tensors=\"pt\"\n",
    "        )\n",
    "\n",
    "    def __getitem__(self, idx):\n",
    "        encoding = self.encode_text(idx)\n",
    "        input_ids = encoding[\"input_ids\"].squeeze(0)\n",
    "        attention_mask = encoding[\"attention_mask\"].squeeze(0)\n",
    "        label = torch.tensor(self.labels.iloc[idx], dtype=torch.long)\n",
    "\n",
    "        return {\n",
    "            \"input_ids\": input_ids,\n",
    "            \"attention_mask\": attention_mask,\n",
    "            \"label\": label\n",
    "        }"
   ]
  },
  {
   "cell_type": "code",
   "execution_count": 5,
   "id": "d5f0e6d0-28c7-4932-bc34-c927f1da3857",
   "metadata": {},
   "outputs": [],
   "source": [
    "train_dataset = ArXivDataset(train_df, tokenizer)\n",
    "test_dataset = ArXivDataset(test_df, tokenizer)\n",
    "\n",
    "train_loader = DataLoader(train_dataset, batch_size=16, shuffle=True, num_workers=3)\n",
    "test_loader = DataLoader(test_dataset, batch_size=16, num_workers=3)"
   ]
  },
  {
   "cell_type": "markdown",
   "id": "56f23c33-3138-4c42-932a-49a870a1b04b",
   "metadata": {},
   "source": [
    "### RoBERTa Baseline\n",
    "\n",
    "(i.e. only train classification head while freezing embedding weights)"
   ]
  },
  {
   "cell_type": "code",
   "execution_count": 6,
   "id": "62e76496-5c10-4863-a704-d3e572804e47",
   "metadata": {},
   "outputs": [],
   "source": [
    "class RobertaBaseline(LightningModule):\n",
    "    def __init__(self, epochs=10):\n",
    "        super().__init__()\n",
    "        self.model = RobertaForSequenceClassification.from_pretrained(\n",
    "            MODEL_NAME, \n",
    "            num_labels=N_CLASSES\n",
    "        )\n",
    "\n",
    "        # Freeze pretrained part\n",
    "        for param in self.model.roberta.parameters():\n",
    "            param.requires_grad = False\n",
    "        \n",
    "        self.epochs = epochs\n",
    "\n",
    "    def forward(self, input_ids, attention_mask, labels=None):\n",
    "        return self.model(\n",
    "            input_ids=input_ids,\n",
    "            attention_mask=attention_mask,\n",
    "            labels=labels\n",
    "        )\n",
    "\n",
    "    def training_step(self, batch, batch_idx):\n",
    "        input_ids = batch[\"input_ids\"]\n",
    "        attention_mask = batch[\"attention_mask\"]\n",
    "        labels = batch[\"label\"]\n",
    "        outputs = self(input_ids, attention_mask, labels)\n",
    "        loss = outputs.loss\n",
    "        self.log(\"train_loss\", loss, on_step=True, on_epoch=True, prog_bar=True, logger=True, sync_dist=True)\n",
    "\n",
    "        return loss\n",
    "\n",
    "    def configure_optimizers(self):\n",
    "        optimizer = AdamW(self.parameters(), lr=1e-3)\n",
    "        total_steps = len(train_loader) * self.epochs\n",
    "        scheduler = get_linear_schedule_with_warmup(\n",
    "            optimizer, \n",
    "            num_warmup_steps=0, \n",
    "            num_training_steps=total_steps\n",
    "        )\n",
    "        scheduler_config = {'scheduler': scheduler, 'interval': 'step', 'frequency': 1}\n",
    "\n",
    "        return [optimizer], [scheduler_config]\n",
    "\n",
    "    def test_step(self, batch, batch_idx):\n",
    "        input_ids = batch[\"input_ids\"]\n",
    "        attention_mask = batch[\"attention_mask\"]\n",
    "        labels = batch[\"label\"]\n",
    "        outputs = self(input_ids, attention_mask, labels)\n",
    "        loss = outputs.loss\n",
    "        self.log(\"test_loss\", loss, on_step=True, on_epoch=True, prog_bar=True, logger=True, sync_dist=True)\n",
    "\n",
    "        return loss"
   ]
  },
  {
   "cell_type": "code",
   "execution_count": 7,
   "id": "ea0e1099-581b-4ef7-9400-a24fa1f43d42",
   "metadata": {},
   "outputs": [
    {
     "name": "stderr",
     "output_type": "stream",
     "text": [
      "Some weights of RobertaForSequenceClassification were not initialized from the model checkpoint at roberta-base and are newly initialized: ['classifier.dense.bias', 'classifier.out_proj.weight', 'classifier.out_proj.bias', 'classifier.dense.weight']\n",
      "You should probably TRAIN this model on a down-stream task to be able to use it for predictions and inference.\n",
      "/home/cpsc452_eh665/.conda/envs/nlp-arxiv/lib/python3.10/site-packages/lightning_fabric/plugins/environments/slurm.py:204: The `srun` command is available on your system but is not used. HINT: If your intention is to run Lightning on SLURM, prepend your python command with `srun` like so: srun python /home/cpsc452_eh665/.conda/envs/nlp-arxiv/lib/python ...\n",
      "GPU available: True (cuda), used: True\n",
      "TPU available: False, using: 0 TPU cores\n",
      "IPU available: False, using: 0 IPUs\n",
      "HPU available: False, using: 0 HPUs\n",
      "/home/cpsc452_eh665/.conda/envs/nlp-arxiv/lib/python3.10/site-packages/pytorch_lightning/trainer/connectors/logger_connector/logger_connector.py:75: Starting from v1.9.0, `tensorboardX` has been removed as a dependency of the `pytorch_lightning` package, due to potential conflicts with other packages in the ML ecosystem. For this reason, `logger=True` will use `CSVLogger` as the default logger, unless the `tensorboard` or `tensorboardX` packages are found. Please `pip install lightning[extra]` or one of them to enable TensorBoard support by default\n"
     ]
    }
   ],
   "source": [
    "# Training\n",
    "num_epochs = 10\n",
    "model = RobertaBaseline(epochs=num_epochs)\n",
    "\n",
    "trainer = Trainer(\n",
    "    max_epochs=num_epochs,\n",
    "    accelerator=\"cuda\",\n",
    "    devices=-1,\n",
    "    enable_progress_bar=True\n",
    ")"
   ]
  },
  {
   "cell_type": "code",
   "execution_count": 8,
   "id": "eb31d64f-269f-462d-b9c7-ffb66ce04d90",
   "metadata": {},
   "outputs": [
    {
     "name": "stderr",
     "output_type": "stream",
     "text": [
      "/home/cpsc452_eh665/.conda/envs/nlp-arxiv/lib/python3.10/site-packages/lightning_fabric/plugins/environments/slurm.py:204: The `srun` command is available on your system but is not used. HINT: If your intention is to run Lightning on SLURM, prepend your python command with `srun` like so: srun python /home/cpsc452_eh665/.conda/envs/nlp-arxiv/lib/python ...\n",
      "/home/cpsc452_eh665/.conda/envs/nlp-arxiv/lib/python3.10/site-packages/lightning_fabric/plugins/environments/slurm.py:204: The `srun` command is available on your system but is not used. HINT: If your intention is to run Lightning on SLURM, prepend your python command with `srun` like so: srun python /home/cpsc452_eh665/.conda/envs/nlp-arxiv/lib/python ...\n",
      "You are using a CUDA device ('NVIDIA A100-PCIE-40GB') that has Tensor Cores. To properly utilize them, you should set `torch.set_float32_matmul_precision('medium' | 'high')` which will trade-off precision for performance. For more details, read https://pytorch.org/docs/stable/generated/torch.set_float32_matmul_precision.html#torch.set_float32_matmul_precision\n",
      "Initializing distributed: GLOBAL_RANK: 1, MEMBER: 2/2\n",
      "You are using a CUDA device ('NVIDIA A100-PCIE-40GB') that has Tensor Cores. To properly utilize them, you should set `torch.set_float32_matmul_precision('medium' | 'high')` which will trade-off precision for performance. For more details, read https://pytorch.org/docs/stable/generated/torch.set_float32_matmul_precision.html#torch.set_float32_matmul_precision\n",
      "Initializing distributed: GLOBAL_RANK: 0, MEMBER: 1/2\n",
      "----------------------------------------------------------------------------------------------------\n",
      "distributed_backend=nccl\n",
      "All distributed processes registered. Starting with 2 processes\n",
      "----------------------------------------------------------------------------------------------------\n",
      "\n",
      "LOCAL_RANK: 1 - CUDA_VISIBLE_DEVICES: [0,1]\n",
      "LOCAL_RANK: 0 - CUDA_VISIBLE_DEVICES: [0,1]\n",
      "/home/cpsc452_eh665/.conda/envs/nlp-arxiv/lib/python3.10/site-packages/transformers/optimization.py:429: FutureWarning: This implementation of AdamW is deprecated and will be removed in a future version. Use the PyTorch implementation torch.optim.AdamW instead, or set `no_deprecation_warning=True` to disable this warning\n",
      "  warnings.warn(\n",
      "/home/cpsc452_eh665/.conda/envs/nlp-arxiv/lib/python3.10/site-packages/transformers/optimization.py:429: FutureWarning: This implementation of AdamW is deprecated and will be removed in a future version. Use the PyTorch implementation torch.optim.AdamW instead, or set `no_deprecation_warning=True` to disable this warning\n",
      "  warnings.warn(\n",
      "\n",
      "  | Name  | Type                             | Params\n",
      "-----------------------------------------------------------\n",
      "0 | model | RobertaForSequenceClassification | 124 M \n",
      "-----------------------------------------------------------\n",
      "594 K     Trainable params\n",
      "124 M     Non-trainable params\n",
      "124 M     Total params\n",
      "498.598   Total estimated model params size (MB)\n"
     ]
    },
    {
     "name": "stdout",
     "output_type": "stream",
     "text": [
      "Epoch 9: 100%|██████████| 1327/1327 [01:57<00:00, 11.30it/s, v_num=24, train_loss_step=0.729, train_loss_epoch=0.862]"
     ]
    },
    {
     "name": "stderr",
     "output_type": "stream",
     "text": [
      "`Trainer.fit` stopped: `max_epochs=10` reached.\n"
     ]
    },
    {
     "name": "stdout",
     "output_type": "stream",
     "text": [
      "Epoch 9: 100%|██████████| 1327/1327 [01:58<00:00, 11.20it/s, v_num=24, train_loss_step=0.729, train_loss_epoch=0.862]\n"
     ]
    }
   ],
   "source": [
    "trainer.fit(model, train_loader)"
   ]
  },
  {
   "cell_type": "code",
   "execution_count": 9,
   "id": "b70c2986-83ff-4a96-aab3-fc0479d9e777",
   "metadata": {},
   "outputs": [],
   "source": [
    "trainer.save_checkpoint(\"../models/roberta_baseline.ckpt\")"
   ]
  },
  {
   "cell_type": "code",
   "execution_count": 12,
   "id": "78ee6f47-91b7-45df-9004-60ec0b2b9d34",
   "metadata": {},
   "outputs": [
    {
     "name": "stderr",
     "output_type": "stream",
     "text": [
      "Some weights of RobertaForSequenceClassification were not initialized from the model checkpoint at roberta-base and are newly initialized: ['classifier.dense.bias', 'classifier.out_proj.weight', 'classifier.out_proj.bias', 'classifier.dense.weight']\n",
      "You should probably TRAIN this model on a down-stream task to be able to use it for predictions and inference.\n"
     ]
    },
    {
     "data": {
      "text/plain": [
       "RobertaBaseline(\n",
       "  (model): RobertaForSequenceClassification(\n",
       "    (roberta): RobertaModel(\n",
       "      (embeddings): RobertaEmbeddings(\n",
       "        (word_embeddings): Embedding(50265, 768, padding_idx=1)\n",
       "        (position_embeddings): Embedding(514, 768, padding_idx=1)\n",
       "        (token_type_embeddings): Embedding(1, 768)\n",
       "        (LayerNorm): LayerNorm((768,), eps=1e-05, elementwise_affine=True)\n",
       "        (dropout): Dropout(p=0.1, inplace=False)\n",
       "      )\n",
       "      (encoder): RobertaEncoder(\n",
       "        (layer): ModuleList(\n",
       "          (0-11): 12 x RobertaLayer(\n",
       "            (attention): RobertaAttention(\n",
       "              (self): RobertaSelfAttention(\n",
       "                (query): Linear(in_features=768, out_features=768, bias=True)\n",
       "                (key): Linear(in_features=768, out_features=768, bias=True)\n",
       "                (value): Linear(in_features=768, out_features=768, bias=True)\n",
       "                (dropout): Dropout(p=0.1, inplace=False)\n",
       "              )\n",
       "              (output): RobertaSelfOutput(\n",
       "                (dense): Linear(in_features=768, out_features=768, bias=True)\n",
       "                (LayerNorm): LayerNorm((768,), eps=1e-05, elementwise_affine=True)\n",
       "                (dropout): Dropout(p=0.1, inplace=False)\n",
       "              )\n",
       "            )\n",
       "            (intermediate): RobertaIntermediate(\n",
       "              (dense): Linear(in_features=768, out_features=3072, bias=True)\n",
       "              (intermediate_act_fn): GELUActivation()\n",
       "            )\n",
       "            (output): RobertaOutput(\n",
       "              (dense): Linear(in_features=3072, out_features=768, bias=True)\n",
       "              (LayerNorm): LayerNorm((768,), eps=1e-05, elementwise_affine=True)\n",
       "              (dropout): Dropout(p=0.1, inplace=False)\n",
       "            )\n",
       "          )\n",
       "        )\n",
       "      )\n",
       "    )\n",
       "    (classifier): RobertaClassificationHead(\n",
       "      (dense): Linear(in_features=768, out_features=768, bias=True)\n",
       "      (dropout): Dropout(p=0.1, inplace=False)\n",
       "      (out_proj): Linear(in_features=768, out_features=5, bias=True)\n",
       "    )\n",
       "  )\n",
       ")"
      ]
     },
     "execution_count": 12,
     "metadata": {},
     "output_type": "execute_result"
    }
   ],
   "source": [
    "# Evaluate\n",
    "model_baseline = RobertaBaseline.load_from_checkpoint(\"../models/roberta_baseline.ckpt\")\n",
    "model_baseline.to(\"cuda\")"
   ]
  },
  {
   "cell_type": "code",
   "execution_count": 13,
   "id": "2470408e-2602-4773-b087-79354d157274",
   "metadata": {},
   "outputs": [
    {
     "name": "stderr",
     "output_type": "stream",
     "text": [
      "100%|██████████| 1138/1138 [01:06<00:00, 17.21batch/s]\n"
     ]
    },
    {
     "name": "stdout",
     "output_type": "stream",
     "text": [
      "              precision    recall  f1-score   support\n",
      "\n",
      "     stat.AP       0.73      0.49      0.58      2576\n",
      "     stat.CO       0.49      0.42      0.45      1007\n",
      "     stat.ME       0.56      0.75      0.64      5540\n",
      "     stat.ML       0.76      0.73      0.74      4824\n",
      "     stat.TH       0.74      0.61      0.67      4248\n",
      "\n",
      "    accuracy                           0.66     18195\n",
      "   macro avg       0.66      0.60      0.62     18195\n",
      "weighted avg       0.67      0.66      0.66     18195\n",
      "\n",
      "Macro-Averaged F1-Score: 0.6175602389198405\n"
     ]
    }
   ],
   "source": [
    "model_baseline.eval()\n",
    "y_true = []\n",
    "y_pred = []\n",
    "\n",
    "for batch in tqdm(test_loader, unit=\"batch\"):\n",
    "    input_ids = batch[\"input_ids\"].to(\"cuda\")\n",
    "    attention_mask = batch[\"attention_mask\"].to(\"cuda\")\n",
    "\n",
    "    with torch.no_grad():\n",
    "        outputs = model_baseline(input_ids, attention_mask=attention_mask)\n",
    "    \n",
    "    logits = outputs.logits\n",
    "    predicted_labels = torch.argmax(logits, dim=1).cpu().numpy()\n",
    "    true_labels = batch[\"label\"].cpu().numpy()\n",
    "\n",
    "    y_true.extend(true_labels)\n",
    "    y_pred.extend(predicted_labels)\n",
    "\n",
    "print(classification_report(y_true, y_pred, target_names=CATEGORY_TO_ID.keys()))\n",
    "print(f\"Macro-Averaged F1-Score: {f1_score(y_true, y_pred, average='macro')}\")"
   ]
  }
 ],
 "metadata": {
  "kernelspec": {
   "display_name": "Python 3 (ipykernel)",
   "language": "python",
   "name": "python3"
  },
  "language_info": {
   "codemirror_mode": {
    "name": "ipython",
    "version": 3
   },
   "file_extension": ".py",
   "mimetype": "text/x-python",
   "name": "python",
   "nbconvert_exporter": "python",
   "pygments_lexer": "ipython3",
   "version": "3.10.13"
  }
 },
 "nbformat": 4,
 "nbformat_minor": 5
}
